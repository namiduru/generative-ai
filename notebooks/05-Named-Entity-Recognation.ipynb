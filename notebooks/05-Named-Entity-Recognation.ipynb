{
 "cells": [
  {
   "cell_type": "markdown",
   "id": "dee79688",
   "metadata": {},
   "source": [
    "# Named Entity Recognation"
   ]
  },
  {
   "cell_type": "code",
   "execution_count": 19,
   "id": "b55b23f9",
   "metadata": {},
   "outputs": [],
   "source": [
    "sentence = \"\"\"\n",
    "John Smith is a software engineer at Google.\n",
    "Jane Doe is a software engineer at Facebook.\n",
    "John Smith is a software engineer at Google.\n",
    "\"\"\""
   ]
  },
  {
   "cell_type": "code",
   "execution_count": 20,
   "id": "9495d47e",
   "metadata": {},
   "outputs": [
    {
     "data": {
      "text/plain": [
       "'\\nJohn Smith is a software engineer at Google.\\nJane Doe is a software engineer at Facebook.\\nJohn Smith is a software engineer at Google.\\n'"
      ]
     },
     "execution_count": 20,
     "metadata": {},
     "output_type": "execute_result"
    }
   ],
   "source": [
    "sentence"
   ]
  },
  {
   "cell_type": "code",
   "execution_count": 40,
   "id": "5cc868c8",
   "metadata": {},
   "outputs": [
    {
     "name": "stderr",
     "output_type": "stream",
     "text": [
      "[nltk_data] Downloading package averaged_perceptron_tagger to\n",
      "[nltk_data]     C:\\Users\\mehme\\AppData\\Roaming\\nltk_data...\n",
      "[nltk_data]   Package averaged_perceptron_tagger is already up-to-\n",
      "[nltk_data]       date!\n",
      "[nltk_data] Downloading package averaged_perceptron_tagger_eng to\n",
      "[nltk_data]     C:\\Users\\mehme\\AppData\\Roaming\\nltk_data...\n",
      "[nltk_data]   Package averaged_perceptron_tagger_eng is already up-to-\n",
      "[nltk_data]       date!\n",
      "[nltk_data] Downloading package maxent_ne_chunker to\n",
      "[nltk_data]     C:\\Users\\mehme\\AppData\\Roaming\\nltk_data...\n",
      "[nltk_data]   Package maxent_ne_chunker is already up-to-date!\n",
      "[nltk_data] Downloading package maxent_ne_chunker_tab to\n",
      "[nltk_data]     C:\\Users\\mehme\\AppData\\Roaming\\nltk_data...\n",
      "[nltk_data]   Package maxent_ne_chunker_tab is already up-to-date!\n",
      "[nltk_data] Downloading package words to\n",
      "[nltk_data]     C:\\Users\\mehme\\AppData\\Roaming\\nltk_data...\n",
      "[nltk_data]   Unzipping corpora\\words.zip.\n"
     ]
    },
    {
     "data": {
      "text/plain": [
       "True"
      ]
     },
     "execution_count": 40,
     "metadata": {},
     "output_type": "execute_result"
    }
   ],
   "source": [
    "import nltk\n",
    "nltk.download('averaged_perceptron_tagger')\n",
    "nltk.download('averaged_perceptron_tagger_eng')\n",
    "nltk.download('maxent_ne_chunker')\n",
    "nltk.download('maxent_ne_chunker_tab')\n",
    "nltk.download('words')"
   ]
  },
  {
   "cell_type": "code",
   "execution_count": 37,
   "id": "01115ee3",
   "metadata": {},
   "outputs": [
    {
     "name": "stdout",
     "output_type": "stream",
     "text": [
      "['John', 'Smith', 'is', 'a', 'software', 'engineer', 'at', 'Google', '.', 'Jane', 'Doe', 'is', 'a', 'software', 'engineer', 'at', 'Facebook', '.', 'John', 'Smith', 'is', 'a', 'software', 'engineer', 'at', 'Google', '.']\n"
     ]
    }
   ],
   "source": [
    "words =nltk.word_tokenize(sentence)\n",
    "print(words)"
   ]
  },
  {
   "cell_type": "code",
   "execution_count": 42,
   "id": "2a330d97",
   "metadata": {},
   "outputs": [
    {
     "name": "stdout",
     "output_type": "stream",
     "text": [
      "[('John', 'NNP'), ('Smith', 'NNP'), ('is', 'VBZ'), ('a', 'DT'), ('software', 'NN'), ('engineer', 'NN'), ('at', 'IN'), ('Google', 'NNP'), ('.', '.'), ('Jane', 'NNP'), ('Doe', 'NNP'), ('is', 'VBZ'), ('a', 'DT'), ('software', 'NN'), ('engineer', 'NN'), ('at', 'IN'), ('Facebook', 'NNP'), ('.', '.'), ('John', 'NNP'), ('Smith', 'NNP'), ('is', 'VBZ'), ('a', 'DT'), ('software', 'NN'), ('engineer', 'NN'), ('at', 'IN'), ('Google', 'NNP'), ('.', '.')]\n"
     ]
    }
   ],
   "source": [
    "tag_elements = nltk.pos_tag(words)\n",
    "print(tag_elements)"
   ]
  },
  {
   "cell_type": "code",
   "execution_count": 45,
   "id": "e8923fa6",
   "metadata": {},
   "outputs": [],
   "source": [
    "nltk.ne_chunk(tag_elements).draw()"
   ]
  }
 ],
 "metadata": {
  "kernelspec": {
   "display_name": "Python 3",
   "language": "python",
   "name": "python3"
  },
  "language_info": {
   "codemirror_mode": {
    "name": "ipython",
    "version": 3
   },
   "file_extension": ".py",
   "mimetype": "text/x-python",
   "name": "python",
   "nbconvert_exporter": "python",
   "pygments_lexer": "ipython3",
   "version": "3.13.5"
  }
 },
 "nbformat": 4,
 "nbformat_minor": 5
}
