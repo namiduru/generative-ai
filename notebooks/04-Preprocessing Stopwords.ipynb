{
 "cells": [
  {
   "cell_type": "code",
   "execution_count": 5,
   "id": "6caa656d-914a-4a28-9f76-2b7770877ba2",
   "metadata": {},
   "outputs": [
    {
     "name": "stderr",
     "output_type": "stream",
     "text": [
      "[nltk_data] Downloading package stopwords to\n",
      "[nltk_data]     C:\\Users\\mehme\\AppData\\Roaming\\nltk_data...\n",
      "[nltk_data]   Unzipping corpora\\stopwords.zip.\n"
     ]
    }
   ],
   "source": [
    "import nltk\n",
    "\n",
    "nltk.download('stopwords')\n",
    "\n",
    "from nltk.stem import PorterStemmer\n",
    "from nltk.corpus import stopwords"
   ]
  },
  {
   "cell_type": "code",
   "execution_count": null,
   "id": "88a42178-786a-474c-b9dc-61b4c31db8d4",
   "metadata": {
    "scrolled": true
   },
   "outputs": [],
   "source": [
    "stopwords.words('turkish')"
   ]
  },
  {
   "cell_type": "code",
   "execution_count": 47,
   "id": "bf4cae23-e352-4f78-92a0-559b8bdf357a",
   "metadata": {},
   "outputs": [],
   "source": [
    "paragraph=\"\"\"Güneş yavaşça dağın arkasına çekildi.\n",
    "Serin rüzgar saçları savurduğunda sessiz bir gülümseme belirdi yüzünde.\n",
    "Bugün her şey tam da olması gerektiği gibiydi. İçten gelen bir huzur, kelimelere ihtiyaç duymadan her şeyi anlatıyordu.\n",
    "Zaman durmuş gibiydi, sadece kalbin sesi duyuluyordu.\"\"\""
   ]
  },
  {
   "cell_type": "code",
   "execution_count": 48,
   "id": "78cb93d2-822b-4e6c-84d4-33d73c85c73b",
   "metadata": {},
   "outputs": [],
   "source": [
    "stemmer=PorterStemmer()\n",
    "sentences = nltk.sent_tokenize(paragraph)"
   ]
  },
  {
   "cell_type": "code",
   "execution_count": 49,
   "id": "9715e01d-daa3-4e73-b24c-11ce3f028c11",
   "metadata": {},
   "outputs": [
    {
     "data": {
      "text/plain": [
       "list"
      ]
     },
     "execution_count": 49,
     "metadata": {},
     "output_type": "execute_result"
    }
   ],
   "source": [
    "type(sentences)"
   ]
  },
  {
   "cell_type": "code",
   "execution_count": 55,
   "id": "7e88d9f7-ef50-4e69-91ef-41501d9b979a",
   "metadata": {},
   "outputs": [],
   "source": [
    "## Apply Stopwords and Filter and then Apply Stemming\n",
    "for i in range(len(sentences)):\n",
    "    words=nltk.word_tokenize(sentences[i])\n",
    "    words=[stemmer.stem(word) for word in words if word not in set(stopwords.words(\"turkish\"))]\n",
    "    sentences[i]=' '.join(words)"
   ]
  },
  {
   "cell_type": "code",
   "execution_count": 56,
   "id": "71613ff5-6bf7-44e6-ab13-0ebc64ab3b19",
   "metadata": {},
   "outputs": [
    {
     "data": {
      "text/plain": [
       "['güneş yavaşça dağın arkasına çekildi .',\n",
       " 'serin rüzgar saçları savurduğunda sessiz bir gülümseme belirdi yüzünde .',\n",
       " 'bugün tam olması gerektiği gibiydi .',\n",
       " 'i̇çten gelen bir huzur , kelimel ihtiyaç duymadan şeyi anlatıyordu .',\n",
       " 'zaman durmuş gibiydi , sadec kalbin sesi duyuluyordu .']"
      ]
     },
     "execution_count": 56,
     "metadata": {},
     "output_type": "execute_result"
    }
   ],
   "source": [
    "sentences"
   ]
  },
  {
   "cell_type": "code",
   "execution_count": 68,
   "id": "e5a24743-3bb1-4fd3-82ed-b7be7c45914d",
   "metadata": {},
   "outputs": [],
   "source": [
    "from nltk.stem import SnowballStemmer\n",
    "snowballstemmer=SnowballStemmer(\"english\")\n",
    "\n",
    "for i in range(len(sentences)):\n",
    "    words=nltk.word_tokenize(sentences[i])\n",
    "    words=[snowballstemmer.stem(word) for word in words if word not in set(stopwords.words(\"turkish\"))]\n",
    "    sentences[i]=' '.join(words)"
   ]
  },
  {
   "cell_type": "code",
   "execution_count": 69,
   "id": "75b69168-8238-466c-8566-9b4318227786",
   "metadata": {},
   "outputs": [
    {
     "data": {
      "text/plain": [
       "['güneş yavaşça dağın arkasına çekildi .',\n",
       " 'serin rüzgar saçları savurduğunda sessiz bir gülümseme belirdi yüzünde .',\n",
       " 'bugün tam olması gerektiği gibiydi .',\n",
       " 'i̇çten gelen bir huzur , kelimel ihtiyaç duymadan şeyi anlatıyordu .',\n",
       " 'zaman durmuş gibiydi , sadec kalbin sesi duyuluyordu .']"
      ]
     },
     "execution_count": 69,
     "metadata": {},
     "output_type": "execute_result"
    }
   ],
   "source": [
    "sentences"
   ]
  },
  {
   "cell_type": "code",
   "execution_count": 64,
   "id": "38b65be2-56a8-4299-a705-33cd623a69e7",
   "metadata": {},
   "outputs": [
    {
     "name": "stderr",
     "output_type": "stream",
     "text": [
      "[nltk_data] Downloading package wordnet to\n",
      "[nltk_data]     C:\\Users\\mehme\\AppData\\Roaming\\nltk_data...\n",
      "[nltk_data]   Package wordnet is already up-to-date!\n"
     ]
    }
   ],
   "source": [
    "import nltk\n",
    "nltk.download('wordnet')\n",
    "\n",
    "from nltk.stem import WordNetLemmatizer\n",
    "lemmatizer=WordNetLemmatizer()\n",
    "\n",
    "for i in range(len(sentences)):\n",
    "    words=nltk.word_tokenize(sentences[i])\n",
    "    words=[lemmatizer.lemmatize(word, pos=\"n\") for word in words if word not in set(stopwords.words(\"turkish\"))]\n",
    "    sentences[i]=' '.join(words)"
   ]
  },
  {
   "cell_type": "code",
   "execution_count": 66,
   "id": "4aa73d73-b95a-4a6d-a19f-d2234dec81bc",
   "metadata": {},
   "outputs": [
    {
     "data": {
      "text/plain": [
       "['güneş yavaşça dağın arkasına çekildi .',\n",
       " 'serin rüzgar saçları savurduğunda sessiz bir gülümseme belirdi yüzünde .',\n",
       " 'bugün tam olması gerektiği gibiydi .',\n",
       " 'i̇çten gelen bir huzur , kelimel ihtiyaç duymadan şeyi anlatıyordu .',\n",
       " 'zaman durmuş gibiydi , sadec kalbin sesi duyuluyordu .']"
      ]
     },
     "execution_count": 66,
     "metadata": {},
     "output_type": "execute_result"
    }
   ],
   "source": [
    "sentences"
   ]
  }
 ],
 "metadata": {
  "kernelspec": {
   "display_name": "Python 3",
   "language": "python",
   "name": "python3"
  },
  "language_info": {
   "codemirror_mode": {
    "name": "ipython",
    "version": 3
   },
   "file_extension": ".py",
   "mimetype": "text/x-python",
   "name": "python",
   "nbconvert_exporter": "python",
   "pygments_lexer": "ipython3",
   "version": "3.13.5"
  }
 },
 "nbformat": 4,
 "nbformat_minor": 5
}
